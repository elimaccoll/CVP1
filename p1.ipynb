{
 "cells": [
  {
   "cell_type": "code",
   "execution_count": 140,
   "metadata": {},
   "outputs": [],
   "source": [
    "import numpy as np\n",
    "import cv2\n",
    "import os\n",
    "import matplotlib.pyplot as plt\n",
    "import scipy.signal as sp"
   ]
  },
  {
   "cell_type": "code",
   "execution_count": 141,
   "metadata": {},
   "outputs": [],
   "source": [
    "def getImagesFromDir(dir: str, ext: str = \".jpg\"):\n",
    "    original = []\n",
    "    gray = []\n",
    "    for file in os.listdir(dir):\n",
    "        if not file.endswith(ext):\n",
    "            continue\n",
    "        image = cv2.imread(f\"{dir}/{file}\")\n",
    "        grayImage = cv2.imread(f\"{dir}/{file}\", 0)\n",
    "        original.append(image)\n",
    "        gray.append(grayImage)\n",
    "    return original, gray\n",
    "\n",
    "# FOR TESTING\n",
    "# I = cv2.imread(\"img_00.jpg\", 0)\n",
    "# print('\\n'.join(['\\t'.join([str(cell) for cell in row]) for row in I]))"
   ]
  },
  {
   "cell_type": "code",
   "execution_count": 142,
   "metadata": {},
   "outputs": [],
   "source": [
    "def displayImage(image, title: str = \"Image\"):\n",
    "    cv2.imshow(title, image)\n",
    "    cv2.waitKey(0)\n",
    "    cv2.destroyAllWindows()"
   ]
  },
  {
   "cell_type": "code",
   "execution_count": 143,
   "metadata": {},
   "outputs": [],
   "source": [
    "# Super jank temp solution for convolving 1d filter over 2d image\n",
    "def correlate2DImage1DMask(I, mask):\n",
    "    l, w = len(I), len(I[0])\n",
    "    F = np.zeros((l, w))\n",
    "\n",
    "    for i, row in enumerate(I):\n",
    "        for j, pixel in enumerate(row):\n",
    "            pre = []\n",
    "            post = []\n",
    "            s = j - 1\n",
    "            e = j + 1\n",
    "            while s < 0:\n",
    "                pre.append(0)\n",
    "                s += 1\n",
    "            while e > w - 1:\n",
    "                post.append(0)\n",
    "                e -= 1\n",
    "            sub = pre\n",
    "            sub.extend(row[s:e+1])\n",
    "            sub.extend(post)\n",
    "            res = 0\n",
    "            for x, f in zip(sub, mask):\n",
    "                res += x * f\n",
    "            F[i][j] = res\n",
    "    return F\n"
   ]
  },
  {
   "cell_type": "code",
   "execution_count": 144,
   "metadata": {},
   "outputs": [],
   "source": [
    "\n",
    "# Test image\n",
    "# image = np.array([[10, 10, 10], [10, 40, 10], [80, 80, 80]])\n",
    "DIR = \"testRedChair\"\n",
    "# DIR = \"testOffice\"\n",
    "images, grays = getImagesFromDir(DIR)"
   ]
  },
  {
   "cell_type": "code",
   "execution_count": 145,
   "metadata": {},
   "outputs": [],
   "source": [
    "filtered = []\n",
    "\n",
    "# Thresh = 6\n",
    "# filter1 = np.array([-1, 0, 1]) * 0.5\n",
    "# for image in grays:\n",
    "#     F = correlate2DImage1DMask(image, filter1)\n",
    "#     filtered.append(F)\n",
    "\n",
    "# Thresh ~ 10-15\n",
    "boxFilter3x3 = np.ones((3, 3)) * (1/9)\n",
    "\n",
    "# Thresh ~ 10-15\n",
    "boxFilter5x5 = np.ones((5, 5)) * (1/25)\n",
    "\n",
    "for img in grays:\n",
    "    res = sp.correlate2d(img, boxFilter5x5, mode=\"same\", boundary=\"fill\", fillvalue=0)\n",
    "    filtered.append(res)\n"
   ]
  },
  {
   "cell_type": "code",
   "execution_count": 146,
   "metadata": {},
   "outputs": [],
   "source": [
    "thresh = 10\n",
    "delta = 1\n",
    "size = (len(images[0]), len(images[0][0]))\n",
    "res = np.zeros(size)\n",
    "prev = res\n",
    "masks = []\n",
    "for t, image in enumerate(filtered):\n",
    "    if t == 0:\n",
    "        prev = image\n",
    "        continue\n",
    "    d = (np.subtract(image, prev)) / delta\n",
    "    mask = np.where(abs(d) >= thresh, 1, 0)\n",
    "    masks.append(mask)\n",
    "    # x = image * mask\n",
    "    # displayImage(x)\n",
    "    \n"
   ]
  },
  {
   "cell_type": "code",
   "execution_count": 147,
   "metadata": {},
   "outputs": [],
   "source": [
    "for image, mask in zip(images[1:], masks):\n",
    "    x = image.copy()\n",
    "    x[np.where(mask == 1)] = (0, 0, 255)\n",
    "    displayImage(x)"
   ]
  },
  {
   "cell_type": "code",
   "execution_count": 148,
   "metadata": {},
   "outputs": [],
   "source": [
    "# fourcc = cv2.VideoWriter_fourcc(*'mp4v') \n",
    "# video = cv2.VideoWriter('video.avi', fourcc, 1, (240, 320))\n",
    "# maskedImages, _ = getImagesFromDir(\"saved\")\n",
    "# for img in maskedImages:\n",
    "#     video.write(img)\n",
    "# cv2.destroyAllWindows()\n",
    "# video.release()"
   ]
  }
 ],
 "metadata": {
  "kernelspec": {
   "display_name": "Python 3",
   "language": "python",
   "name": "python3"
  },
  "language_info": {
   "codemirror_mode": {
    "name": "ipython",
    "version": 3
   },
   "file_extension": ".py",
   "mimetype": "text/x-python",
   "name": "python",
   "nbconvert_exporter": "python",
   "pygments_lexer": "ipython3",
   "version": "3.9.7"
  },
  "orig_nbformat": 4,
  "vscode": {
   "interpreter": {
    "hash": "5ce31493d3fe9d32183c2eca44138eed260cd0198ffa5f293eef82052ee49414"
   }
  }
 },
 "nbformat": 4,
 "nbformat_minor": 2
}
